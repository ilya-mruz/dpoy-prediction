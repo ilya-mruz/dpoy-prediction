{
  "cells": [
    {
      "cell_type": "code",
      "execution_count": 1,
      "metadata": {
        "id": "jEOEEiSIiSyt"
      },
      "outputs": [],
      "source": [
        "import pandas as pd\n",
        "import numpy as np\n",
        "import matplotlib.pyplot as plt\n",
        "import xgboost as xgb\n",
        "import matplotlib.pyplot as plt\n",
        "from pandas.core.reshape.api import merge\n",
        "from sklearn.preprocessing import StandardScaler\n",
        "from sklearn.preprocessing import MinMaxScaler\n",
        "from sklearn.preprocessing import MaxAbsScaler\n",
        "from sklearn.preprocessing import RobustScaler\n",
        "from sklearn.preprocessing import Normalizer\n",
        "from sklearn.preprocessing import PowerTransformer\n",
        "from sklearn.svm import SVR\n",
        "from sklearn.metrics import r2_score, mean_absolute_error, mean_squared_error, mean_absolute_percentage_error\n",
        "from sklearn.linear_model import LinearRegression\n",
        "from sklearn.ensemble import RandomForestRegressor\n",
        "from sklearn.neural_network import MLPRegressor\n",
        "from sklearn.metrics import precision_score, recall_score, f1_score\n",
        "from sklearn.metrics import precision_recall_curve\n",
        "from sklearn.metrics import roc_curve, auc\n",
        "from bayes_opt import BayesianOptimization\n",
        "\n"
      ]
    },
    {
      "cell_type": "markdown",
      "metadata": {
        "id": "jgXmc6WulKc6"
      },
      "source": [
        "Create  a dataframe with season, player,pos, age, experience, tm, g, mp, drb_percent, stl_percent, blk_percent, dws, dbpm from Advanced.csv, share, player, season from Player Award Shares.csv, w, l, abbreviation, season, d_rtg from Team Summaries.csv\n"
      ]
    },
    {
      "cell_type": "code",
      "execution_count": 2,
      "metadata": {
        "id": "M1Ajw1pdjwJL"
      },
      "outputs": [],
      "source": [
        "seasons = ['2022', '2021', '2020', '2019', '2018', '2017', '2016', '2015', '2014', '2013', \n",
        "           '2012', '2011', '2010', '2009', '2008', '2007', '2006', '2005', '2004', '2003', '2002',\n",
        "           '2000', '1999', '1998', '1997', '1996', '1995', '1994', '1993', '1992', '1991', '1990', '1989', '1988', '1987', '1986', '1985', '1984', '1983']"
      ]
    },
    {
      "cell_type": "markdown",
      "metadata": {
        "id": "YbYbOxktqdpP"
      },
      "source": [
        "Data Preprocessing"
      ]
    },
    {
      "cell_type": "code",
      "execution_count": 3,
      "metadata": {
        "id": "s3DcgzuW1wb0"
      },
      "outputs": [],
      "source": [
        "\n",
        "# Creates Dataframes\n",
        "voting = pd.read_csv(\"Player Award Shares.csv\")\n",
        "advanced = pd.read_csv(\"Advanced.csv\")\n",
        "team_data = pd.read_csv(\"Team Summaries.csv\")\n",
        "\n",
        "# Delete non-DPOY voting\n",
        "voting = voting[voting['award'] == \"dpoy\"]\n",
        "\n",
        "# Deletes all data that is before the DPOY award was introduced\n",
        "advanced = advanced[advanced['season'] >= 1983]\n",
        "team_data = team_data[team_data['season'] >= 1983]\n",
        "\n",
        "# Delete all non-important columns\n",
        "columns_kept = [\"season\", \"player\", \"age\", \"experience\", \"tm\", \"g\", \"mp\", \"drb_percent\", \"stl_percent\", \"blk_percent\", \"dws\",\"dbpm\"]\n",
        "advanced = advanced[columns_kept]\n",
        "\n",
        "columns_kept = [\"season\", \"player\", \"share\", \"tm\"]\n",
        "voting = voting[columns_kept]\n",
        "\n",
        "columns_kept = [\"season\", \"abbreviation\", \"w\", \"l\",\"d_rtg\"]\n",
        "team_data = team_data[columns_kept]\n",
        "\n",
        "# Get rid of players who were traded mid-season and the 2001 and 2023 season\n",
        "voting = voting[voting[\"season\"] != 2001]\n",
        "advanced = advanced[advanced[\"season\"] != 2001]\n",
        "team_data = team_data[team_data[\"season\"] != 2001]\n",
        "\n",
        "voting = voting[voting[\"season\"] != 2023]\n",
        "advanced = advanced[advanced[\"season\"] != 2023]\n",
        "team_data = team_data[team_data[\"season\"] != 2023]\n",
        "\n",
        "advanced = advanced.drop_duplicates(subset=['player', 'season'], keep= False)\n",
        "voting = voting[voting['tm'] != \"TOT\"]\n",
        "\n",
        "# Use league average d_rtg - the teams d_rtg instead of just d_rtg and use W/L percent\n",
        "team_data['W/L_percent'] = team_data['w'] / (team_data['l'] + team_data['w'])\n",
        "team_data = team_data.drop(['w', 'l'], axis=1)\n",
        "\n",
        "# create a new dataframe with valid abbreviation values\n",
        "team_data_clean = team_data.dropna(subset=[\"abbreviation\"])\n",
        "\n",
        "# compute the average defense rating for the season\n",
        "season_avg = team_data_clean.groupby(\"season\")[\"d_rtg\"].mean().reset_index()\n",
        "\n",
        "# merge the team_data_clean and season_avg dataframes\n",
        "merged_data = pd.merge(team_data_clean, season_avg, on=\"season\", suffixes=(\"_team\", \"_season\"))\n",
        "\n",
        "# compute the defense rating difference for each team\n",
        "merged_data[\"d_rtg_diff\"] = merged_data[\"d_rtg_team\"] - merged_data[\"d_rtg_season\"]\n",
        "\n",
        "#merge files on player and season\n",
        "merged_data = merged_data.drop('d_rtg_team', axis=1)\n",
        "merged_data = merged_data.drop('d_rtg_season', axis=1)\n",
        "\n",
        "merged_data = merged_data.rename(columns={'abbreviation': 'tm'})\n",
        "merged_df = pd.merge(advanced, merged_data, on=['tm', 'season'], how=\"outer\")\n",
        "\n",
        "voting = voting.drop(\"tm\", axis = 1)\n",
        "final_merged_df = pd.merge(merged_df, voting, on=['player', 'season'], how=\"outer\")\n",
        "\n",
        "final_merged_df[\"share\"] = final_merged_df[\"share\"].fillna(0)\n",
        "final_merged_df = final_merged_df[~final_merged_df[['drb_percent', 'blk_percent', 'stl_percent']].isna().any(axis=1)].reset_index(drop=True)\n",
        "\n",
        "final_merged_df = final_merged_df[final_merged_df[\"mp\"] >= 1500]\n",
        "\n"
      ]
    },
    {
      "cell_type": "code",
      "execution_count": 4,
      "metadata": {
        "colab": {
          "base_uri": "https://localhost:8080/",
          "height": 485
        },
        "id": "3Af5ZcjZ1K71",
        "outputId": "1b63c64b-64cd-4c8c-aeb8-09f52ca76c19"
      },
      "outputs": [
        {
          "data": {
            "text/html": [
              "<div>\n",
              "<style scoped>\n",
              "    .dataframe tbody tr th:only-of-type {\n",
              "        vertical-align: middle;\n",
              "    }\n",
              "\n",
              "    .dataframe tbody tr th {\n",
              "        vertical-align: top;\n",
              "    }\n",
              "\n",
              "    .dataframe thead th {\n",
              "        text-align: right;\n",
              "    }\n",
              "</style>\n",
              "<table border=\"1\" class=\"dataframe\">\n",
              "  <thead>\n",
              "    <tr style=\"text-align: right;\">\n",
              "      <th></th>\n",
              "      <th>season</th>\n",
              "      <th>player</th>\n",
              "      <th>age</th>\n",
              "      <th>experience</th>\n",
              "      <th>tm</th>\n",
              "      <th>g</th>\n",
              "      <th>mp</th>\n",
              "      <th>drb_percent</th>\n",
              "      <th>stl_percent</th>\n",
              "      <th>blk_percent</th>\n",
              "      <th>dws</th>\n",
              "      <th>dbpm</th>\n",
              "      <th>W/L_percent</th>\n",
              "      <th>d_rtg_diff</th>\n",
              "      <th>share</th>\n",
              "    </tr>\n",
              "  </thead>\n",
              "  <tbody>\n",
              "    <tr>\n",
              "      <th>0</th>\n",
              "      <td>2022</td>\n",
              "      <td>Aaron Gordon</td>\n",
              "      <td>26.0</td>\n",
              "      <td>8</td>\n",
              "      <td>DEN</td>\n",
              "      <td>75</td>\n",
              "      <td>2376.0</td>\n",
              "      <td>14.3</td>\n",
              "      <td>0.9</td>\n",
              "      <td>1.7</td>\n",
              "      <td>2.0</td>\n",
              "      <td>-1.1</td>\n",
              "      <td>0.585366</td>\n",
              "      <td>0.150000</td>\n",
              "      <td>0.0</td>\n",
              "    </tr>\n",
              "    <tr>\n",
              "      <th>7</th>\n",
              "      <td>2022</td>\n",
              "      <td>Jeff Green</td>\n",
              "      <td>35.0</td>\n",
              "      <td>14</td>\n",
              "      <td>DEN</td>\n",
              "      <td>75</td>\n",
              "      <td>1849.0</td>\n",
              "      <td>11.1</td>\n",
              "      <td>0.7</td>\n",
              "      <td>1.3</td>\n",
              "      <td>1.2</td>\n",
              "      <td>-1.3</td>\n",
              "      <td>0.585366</td>\n",
              "      <td>0.150000</td>\n",
              "      <td>0.0</td>\n",
              "    </tr>\n",
              "    <tr>\n",
              "      <th>10</th>\n",
              "      <td>2022</td>\n",
              "      <td>Monte Morris</td>\n",
              "      <td>26.0</td>\n",
              "      <td>5</td>\n",
              "      <td>DEN</td>\n",
              "      <td>75</td>\n",
              "      <td>2239.0</td>\n",
              "      <td>9.6</td>\n",
              "      <td>1.2</td>\n",
              "      <td>0.6</td>\n",
              "      <td>1.5</td>\n",
              "      <td>-0.8</td>\n",
              "      <td>0.585366</td>\n",
              "      <td>0.150000</td>\n",
              "      <td>0.0</td>\n",
              "    </tr>\n",
              "    <tr>\n",
              "      <th>11</th>\n",
              "      <td>2022</td>\n",
              "      <td>Nikola Jokić</td>\n",
              "      <td>26.0</td>\n",
              "      <td>7</td>\n",
              "      <td>DEN</td>\n",
              "      <td>74</td>\n",
              "      <td>2476.0</td>\n",
              "      <td>35.5</td>\n",
              "      <td>2.2</td>\n",
              "      <td>2.3</td>\n",
              "      <td>4.5</td>\n",
              "      <td>4.5</td>\n",
              "      <td>0.585366</td>\n",
              "      <td>0.150000</td>\n",
              "      <td>0.0</td>\n",
              "    </tr>\n",
              "    <tr>\n",
              "      <th>15</th>\n",
              "      <td>2022</td>\n",
              "      <td>Will Barton</td>\n",
              "      <td>31.0</td>\n",
              "      <td>10</td>\n",
              "      <td>DEN</td>\n",
              "      <td>71</td>\n",
              "      <td>2277.0</td>\n",
              "      <td>14.1</td>\n",
              "      <td>1.2</td>\n",
              "      <td>1.2</td>\n",
              "      <td>1.9</td>\n",
              "      <td>-0.9</td>\n",
              "      <td>0.585366</td>\n",
              "      <td>0.150000</td>\n",
              "      <td>0.0</td>\n",
              "    </tr>\n",
              "    <tr>\n",
              "      <th>...</th>\n",
              "      <td>...</td>\n",
              "      <td>...</td>\n",
              "      <td>...</td>\n",
              "      <td>...</td>\n",
              "      <td>...</td>\n",
              "      <td>...</td>\n",
              "      <td>...</td>\n",
              "      <td>...</td>\n",
              "      <td>...</td>\n",
              "      <td>...</td>\n",
              "      <td>...</td>\n",
              "      <td>...</td>\n",
              "      <td>...</td>\n",
              "      <td>...</td>\n",
              "      <td>...</td>\n",
              "    </tr>\n",
              "    <tr>\n",
              "      <th>15014</th>\n",
              "      <td>1983</td>\n",
              "      <td>Mark Olberding</td>\n",
              "      <td>26.0</td>\n",
              "      <td>8</td>\n",
              "      <td>CHI</td>\n",
              "      <td>80</td>\n",
              "      <td>1817.0</td>\n",
              "      <td>14.7</td>\n",
              "      <td>1.2</td>\n",
              "      <td>0.3</td>\n",
              "      <td>1.0</td>\n",
              "      <td>-0.8</td>\n",
              "      <td>0.341463</td>\n",
              "      <td>3.308696</td>\n",
              "      <td>0.0</td>\n",
              "    </tr>\n",
              "    <tr>\n",
              "      <th>15016</th>\n",
              "      <td>1983</td>\n",
              "      <td>Orlando Woolridge</td>\n",
              "      <td>23.0</td>\n",
              "      <td>2</td>\n",
              "      <td>CHI</td>\n",
              "      <td>57</td>\n",
              "      <td>1627.0</td>\n",
              "      <td>11.6</td>\n",
              "      <td>1.1</td>\n",
              "      <td>1.4</td>\n",
              "      <td>0.8</td>\n",
              "      <td>-1.1</td>\n",
              "      <td>0.341463</td>\n",
              "      <td>3.308696</td>\n",
              "      <td>0.0</td>\n",
              "    </tr>\n",
              "    <tr>\n",
              "      <th>15017</th>\n",
              "      <td>1983</td>\n",
              "      <td>Quintin Dailey</td>\n",
              "      <td>22.0</td>\n",
              "      <td>1</td>\n",
              "      <td>CHI</td>\n",
              "      <td>76</td>\n",
              "      <td>2081.0</td>\n",
              "      <td>8.9</td>\n",
              "      <td>1.6</td>\n",
              "      <td>0.3</td>\n",
              "      <td>0.9</td>\n",
              "      <td>-1.4</td>\n",
              "      <td>0.341463</td>\n",
              "      <td>3.308696</td>\n",
              "      <td>0.0</td>\n",
              "    </tr>\n",
              "    <tr>\n",
              "      <th>15018</th>\n",
              "      <td>1983</td>\n",
              "      <td>Reggie Theus</td>\n",
              "      <td>25.0</td>\n",
              "      <td>5</td>\n",
              "      <td>CHI</td>\n",
              "      <td>82</td>\n",
              "      <td>2856.0</td>\n",
              "      <td>7.8</td>\n",
              "      <td>2.3</td>\n",
              "      <td>0.3</td>\n",
              "      <td>1.6</td>\n",
              "      <td>-1.0</td>\n",
              "      <td>0.341463</td>\n",
              "      <td>3.308696</td>\n",
              "      <td>0.0</td>\n",
              "    </tr>\n",
              "    <tr>\n",
              "      <th>15019</th>\n",
              "      <td>1983</td>\n",
              "      <td>Rod Higgins</td>\n",
              "      <td>23.0</td>\n",
              "      <td>1</td>\n",
              "      <td>CHI</td>\n",
              "      <td>82</td>\n",
              "      <td>2196.0</td>\n",
              "      <td>10.1</td>\n",
              "      <td>1.4</td>\n",
              "      <td>1.6</td>\n",
              "      <td>1.2</td>\n",
              "      <td>-0.3</td>\n",
              "      <td>0.341463</td>\n",
              "      <td>3.308696</td>\n",
              "      <td>0.0</td>\n",
              "    </tr>\n",
              "  </tbody>\n",
              "</table>\n",
              "<p>6269 rows × 15 columns</p>\n",
              "</div>"
            ],
            "text/plain": [
              "       season             player   age  experience   tm   g      mp  \\\n",
              "0        2022       Aaron Gordon  26.0           8  DEN  75  2376.0   \n",
              "7        2022         Jeff Green  35.0          14  DEN  75  1849.0   \n",
              "10       2022       Monte Morris  26.0           5  DEN  75  2239.0   \n",
              "11       2022       Nikola Jokić  26.0           7  DEN  74  2476.0   \n",
              "15       2022        Will Barton  31.0          10  DEN  71  2277.0   \n",
              "...       ...                ...   ...         ...  ...  ..     ...   \n",
              "15014    1983     Mark Olberding  26.0           8  CHI  80  1817.0   \n",
              "15016    1983  Orlando Woolridge  23.0           2  CHI  57  1627.0   \n",
              "15017    1983     Quintin Dailey  22.0           1  CHI  76  2081.0   \n",
              "15018    1983       Reggie Theus  25.0           5  CHI  82  2856.0   \n",
              "15019    1983        Rod Higgins  23.0           1  CHI  82  2196.0   \n",
              "\n",
              "       drb_percent  stl_percent  blk_percent  dws  dbpm  W/L_percent  \\\n",
              "0             14.3          0.9          1.7  2.0  -1.1     0.585366   \n",
              "7             11.1          0.7          1.3  1.2  -1.3     0.585366   \n",
              "10             9.6          1.2          0.6  1.5  -0.8     0.585366   \n",
              "11            35.5          2.2          2.3  4.5   4.5     0.585366   \n",
              "15            14.1          1.2          1.2  1.9  -0.9     0.585366   \n",
              "...            ...          ...          ...  ...   ...          ...   \n",
              "15014         14.7          1.2          0.3  1.0  -0.8     0.341463   \n",
              "15016         11.6          1.1          1.4  0.8  -1.1     0.341463   \n",
              "15017          8.9          1.6          0.3  0.9  -1.4     0.341463   \n",
              "15018          7.8          2.3          0.3  1.6  -1.0     0.341463   \n",
              "15019         10.1          1.4          1.6  1.2  -0.3     0.341463   \n",
              "\n",
              "       d_rtg_diff  share  \n",
              "0        0.150000    0.0  \n",
              "7        0.150000    0.0  \n",
              "10       0.150000    0.0  \n",
              "11       0.150000    0.0  \n",
              "15       0.150000    0.0  \n",
              "...           ...    ...  \n",
              "15014    3.308696    0.0  \n",
              "15016    3.308696    0.0  \n",
              "15017    3.308696    0.0  \n",
              "15018    3.308696    0.0  \n",
              "15019    3.308696    0.0  \n",
              "\n",
              "[6269 rows x 15 columns]"
            ]
          },
          "execution_count": 4,
          "metadata": {},
          "output_type": "execute_result"
        }
      ],
      "source": [
        "final_merged_df"
      ]
    },
    {
      "cell_type": "code",
      "execution_count": 5,
      "metadata": {
        "colab": {
          "base_uri": "https://localhost:8080/"
        },
        "id": "e3_p-toI7f0E",
        "outputId": "b4e61334-0672-405d-d3eb-c6b31a133a05"
      },
      "outputs": [
        {
          "name": "stdout",
          "output_type": "stream",
          "text": [
            "<class 'pandas.core.frame.DataFrame'>\n",
            "Int64Index: 6269 entries, 0 to 15019\n",
            "Data columns (total 15 columns):\n",
            " #   Column       Non-Null Count  Dtype  \n",
            "---  ------       --------------  -----  \n",
            " 0   season       6269 non-null   int64  \n",
            " 1   player       6269 non-null   object \n",
            " 2   age          6269 non-null   float64\n",
            " 3   experience   6269 non-null   int64  \n",
            " 4   tm           6269 non-null   object \n",
            " 5   g            6269 non-null   int64  \n",
            " 6   mp           6269 non-null   float64\n",
            " 7   drb_percent  6269 non-null   float64\n",
            " 8   stl_percent  6269 non-null   float64\n",
            " 9   blk_percent  6269 non-null   float64\n",
            " 10  dws          6269 non-null   float64\n",
            " 11  dbpm         6269 non-null   float64\n",
            " 12  W/L_percent  6269 non-null   float64\n",
            " 13  d_rtg_diff   6269 non-null   float64\n",
            " 14  share        6269 non-null   float64\n",
            "dtypes: float64(10), int64(3), object(2)\n",
            "memory usage: 783.6+ KB\n"
          ]
        }
      ],
      "source": [
        "final_merged_df.info()"
      ]
    },
    {
      "cell_type": "markdown",
      "metadata": {
        "id": "ShYavts1kEGg"
      },
      "source": [
        "Data Split"
      ]
    },
    {
      "cell_type": "code",
      "execution_count": 6,
      "metadata": {
        "id": "RETmWXTnkR_v"
      },
      "outputs": [],
      "source": [
        "def training_testing_split(years, dataframe):\n",
        "\n",
        "  # Create boolean mask to select rows based on list of years\n",
        "  year_mask = dataframe['season'].isin(years)\n",
        "\n",
        "  training_df = dataframe[~year_mask]\n",
        "  testing_df = dataframe[year_mask]\n",
        "\n",
        "  training_share = training_df['share']  # New variable to hold the 'share' column\n",
        "  testing_share = testing_df['share']    # New variable to hold the 'share' column\n",
        "\n",
        "  training_df = training_df.drop(['player', \"season\", \"tm\", \"share\"], axis=1)\n",
        "  testing_df = testing_df.drop(['player', \"season\", \"tm\", \"share\"], axis=1)\n",
        "  # Scale data\n",
        "\n",
        "  # scaler = MinMaxScaler()\n",
        "  # training_df = scaler.fit_transform(training_df)\n",
        "  # testing_df = scaler.transform(testing_df)\n",
        "\n",
        "  scaler = MaxAbsScaler()\n",
        "  training_df = scaler.fit_transform(training_df)\n",
        "  testing_df = scaler.transform(testing_df)\n",
        "\n",
        "  # scaler = RobustScaler()\n",
        "  # training_df = scaler.fit_transform(training_df)\n",
        "  # testing_df = scaler.transform(testing_df)\n",
        "\n",
        "  # scaler = PowerTransformer()\n",
        "  # training_df = scaler.fit_transform(training_df)\n",
        "  # testing_df = scaler.transform(testing_df)\n",
        "\n",
        "  X_train = training_df\n",
        "  y_train = training_share\n",
        "\n",
        "  X_test = testing_df\n",
        "  y_test = testing_share\n",
        "\n",
        "  cols = dataframe.columns.drop(['player', \"season\", \"tm\", \"share\"]) # Use original dataframe to get the column names\n",
        "  cols = np.array(cols)\n",
        "\n",
        "  return X_train, y_train, X_test, y_test, cols"
      ]
    },
    {
      "cell_type": "markdown",
      "metadata": {
        "id": "n3K8taQZa_cm"
      },
      "source": [
        "ML Models"
      ]
    },
    {
      "cell_type": "code",
      "execution_count": 7,
      "metadata": {
        "id": "bXrUvtbSQ285"
      },
      "outputs": [],
      "source": [
        "years = [2020,1990,2009,2016]\n",
        "X_train, y_train, X_test, y_test, cols = training_testing_split(years, final_merged_df)\n",
        "\n",
        "train_data = pd.DataFrame(X_train, columns=cols)\n",
        "train_labels = pd.Series(y_train)\n",
        "test_data = pd.DataFrame(X_test, columns=cols)\n",
        "test_labels = pd.Series(y_test)"
      ]
    },
    {
      "cell_type": "code",
      "execution_count": 8,
      "metadata": {
        "colab": {
          "base_uri": "https://localhost:8080/"
        },
        "id": "UeXSFis_Lec3",
        "outputId": "dfacd223-3f34-4e22-ddf3-c2a6af19cefa"
      },
      "outputs": [
        {
          "name": "stdout",
          "output_type": "stream",
          "text": [
            "R^2 score: 0.3601\n",
            "MAE: 0.0111\n",
            "MSE: 0.0034\n"
          ]
        }
      ],
      "source": [
        "\n",
        "# Create the random forest model\n",
        "rf_model = RandomForestRegressor(n_estimators=100, max_depth=5, random_state=42)\n",
        "\n",
        "# Fit the model to the training data\n",
        "rf_model.fit(train_data, train_labels)\n",
        "\n",
        "# Predict the target variable for the test data\n",
        "predicted_labels = rf_model.predict(test_data)\n",
        "\n",
        "# Calculate the R^2, MAE, MSE, and MAPE metrics\n",
        "r2 = r2_score(test_labels, predicted_labels)\n",
        "mae = mean_absolute_error(test_labels, predicted_labels)\n",
        "mse = mean_squared_error(test_labels, predicted_labels)\n",
        "\n",
        "# Print the results\n",
        "print(f'R^2 score: {r2:.4f}')\n",
        "print(f'MAE: {mae:.4f}')\n",
        "print(f'MSE: {mse:.4f}')"
      ]
    },
    {
      "cell_type": "code",
      "execution_count": 9,
      "metadata": {
        "colab": {
          "base_uri": "https://localhost:8080/"
        },
        "id": "kIamd5PVQ3OF",
        "outputId": "738eb24f-8811-4f10-dbb1-ccee98b5ecd6"
      },
      "outputs": [
        {
          "name": "stdout",
          "output_type": "stream",
          "text": [
            "R^2 score: 0.3133\n",
            "MAE: 0.0162\n",
            "MSE: 0.0037\n"
          ]
        }
      ],
      "source": [
        "# Create the neural network model\n",
        "nn_model = MLPRegressor()\n",
        "\n",
        "# Fit the model to the training data\n",
        "nn_model.fit(train_data, train_labels)\n",
        "\n",
        "# Predict the target variable for the test data\n",
        "predicted_labels = nn_model.predict(test_data)\n",
        "\n",
        "# Calculate the R^2, MAE, MSE metrics\n",
        "r2 = r2_score(test_labels, predicted_labels)\n",
        "mae = mean_absolute_error(test_labels, predicted_labels)\n",
        "mse = mean_squared_error(test_labels, predicted_labels)\n",
        "\n",
        "# Print the results\n",
        "print(f'R^2 score: {r2:.4f}')\n",
        "print(f'MAE: {mae:.4f}')\n",
        "print(f'MSE: {mse:.4f}')"
      ]
    },
    {
      "cell_type": "code",
      "execution_count": 10,
      "metadata": {
        "colab": {
          "base_uri": "https://localhost:8080/"
        },
        "id": "e2F_Ob3EAxA7",
        "outputId": "148304ea-79e1-4f0f-c8b0-5cdb8b6b1195"
      },
      "outputs": [
        {
          "name": "stdout",
          "output_type": "stream",
          "text": [
            "R^2 score: 0.1018\n",
            "MAE: 0.0436\n",
            "MSE: 0.0048\n"
          ]
        }
      ],
      "source": [
        "# Create the SVM model\n",
        "svm_model = SVR(kernel='poly')\n",
        "\n",
        "# Fit the model to the training data\n",
        "svm_model.fit(train_data, train_labels)\n",
        "\n",
        "# Predict the target variable for the test data\n",
        "predicted_labels = svm_model.predict(test_data)\n",
        "\n",
        "# Calculate the R^2, MAE, MSE, metrics\n",
        "r2 = r2_score(test_labels, predicted_labels)\n",
        "mae = mean_absolute_error(test_labels, predicted_labels)\n",
        "mse = mean_squared_error(test_labels, predicted_labels)\n",
        "mape = mean_absolute_percentage_error(test_labels, predicted_labels)\n",
        "\n",
        "# Print the results\n",
        "print(f'R^2 score: {r2:.4f}')\n",
        "print(f'MAE: {mae:.4f}')\n",
        "print(f'MSE: {mse:.4f}')"
      ]
    },
    {
      "cell_type": "code",
      "execution_count": 11,
      "metadata": {
        "colab": {
          "base_uri": "https://localhost:8080/"
        },
        "id": "aBGUYm2Bz-1F",
        "outputId": "40d0e5ff-5dbc-416f-dbcf-5f07e30b3c7c"
      },
      "outputs": [
        {
          "name": "stdout",
          "output_type": "stream",
          "text": [
            "R^2 score: 0.4186\n",
            "MAE: 0.0123\n",
            "MSE: 0.0031\n"
          ]
        }
      ],
      "source": [
        "# Create the XGBoost model\n",
        "# xgb_model = xgb.XGBRegressor(n_estimators=100, max_depth=5, learning_rate=0.1, random_state=42)\n",
        "xgb_model =  xgb.XGBRegressor()\n",
        "# Fit the model to the training data\n",
        "xgb_model.fit(train_data, train_labels)\n",
        "\n",
        "# Predict the target variable for the test data\n",
        "predicted_labels = xgb_model.predict(test_data)\n",
        "\n",
        "# Calculate the R^2, MAE, MSE metrics\n",
        "r2 = r2_score(test_labels, predicted_labels)\n",
        "mae = mean_absolute_error(test_labels, predicted_labels)\n",
        "mse = mean_squared_error(test_labels, predicted_labels)\n",
        "\n",
        "# Print the results\n",
        "print(f'R^2 score: {r2:.4f}')\n",
        "print(f'MAE: {mae:.4f}')\n",
        "print(f'MSE: {mse:.4f}')"
      ]
    },
    {
      "cell_type": "code",
      "execution_count": 12,
      "metadata": {
        "colab": {
          "base_uri": "https://localhost:8080/"
        },
        "id": "EO21LCRz8Att",
        "outputId": "3d90437f-d375-4aad-c5e7-426358470270"
      },
      "outputs": [
        {
          "name": "stdout",
          "output_type": "stream",
          "text": [
            "|   iter    |  target   | learni... | max_depth | subsample |\n",
            "-------------------------------------------------------------\n",
            "| \u001b[0m1        \u001b[0m | \u001b[0m0.956    \u001b[0m | \u001b[0m0.08923  \u001b[0m | \u001b[0m8.042    \u001b[0m | \u001b[0m0.5001   \u001b[0m |\n",
            "| \u001b[0m2        \u001b[0m | \u001b[0m0.9533   \u001b[0m | \u001b[0m0.06744  \u001b[0m | \u001b[0m4.027    \u001b[0m | \u001b[0m0.5462   \u001b[0m |\n",
            "| \u001b[0m3        \u001b[0m | \u001b[0m0.9484   \u001b[0m | \u001b[0m0.04539  \u001b[0m | \u001b[0m5.419    \u001b[0m | \u001b[0m0.6984   \u001b[0m |\n",
            "| \u001b[0m4        \u001b[0m | \u001b[0m0.9551   \u001b[0m | \u001b[0m0.1124   \u001b[0m | \u001b[0m5.934    \u001b[0m | \u001b[0m0.8426   \u001b[0m |\n",
            "| \u001b[0m5        \u001b[0m | \u001b[0m0.9497   \u001b[0m | \u001b[0m0.04885  \u001b[0m | \u001b[0m9.147    \u001b[0m | \u001b[0m0.5137   \u001b[0m |\n",
            "| \u001b[0m6        \u001b[0m | \u001b[0m0.9528   \u001b[0m | \u001b[0m0.08141  \u001b[0m | \u001b[0m8.529    \u001b[0m | \u001b[0m0.8872   \u001b[0m |\n",
            "| \u001b[0m7        \u001b[0m | \u001b[0m0.9543   \u001b[0m | \u001b[0m0.1111   \u001b[0m | \u001b[0m8.512    \u001b[0m | \u001b[0m0.5874   \u001b[0m |\n",
            "| \u001b[0m8        \u001b[0m | \u001b[0m0.9556   \u001b[0m | \u001b[0m0.09994  \u001b[0m | \u001b[0m8.226    \u001b[0m | \u001b[0m0.5238   \u001b[0m |\n",
            "| \u001b[0m9        \u001b[0m | \u001b[0m0.9486   \u001b[0m | \u001b[0m0.05323  \u001b[0m | \u001b[0m4.089    \u001b[0m | \u001b[0m0.9737   \u001b[0m |\n",
            "| \u001b[0m10       \u001b[0m | \u001b[0m0.9554   \u001b[0m | \u001b[0m0.148    \u001b[0m | \u001b[0m8.1      \u001b[0m | \u001b[0m0.5973   \u001b[0m |\n",
            "| \u001b[0m11       \u001b[0m | \u001b[0m0.9553   \u001b[0m | \u001b[0m0.169    \u001b[0m | \u001b[0m6.446    \u001b[0m | \u001b[0m0.9547   \u001b[0m |\n",
            "| \u001b[0m12       \u001b[0m | \u001b[0m0.9543   \u001b[0m | \u001b[0m0.1915   \u001b[0m | \u001b[0m7.648    \u001b[0m | \u001b[0m0.7354   \u001b[0m |\n",
            "| \u001b[0m13       \u001b[0m | \u001b[0m0.9535   \u001b[0m | \u001b[0m0.1029   \u001b[0m | \u001b[0m8.888    \u001b[0m | \u001b[0m0.9895   \u001b[0m |\n",
            "| \u001b[0m14       \u001b[0m | \u001b[0m0.8995   \u001b[0m | \u001b[0m0.01     \u001b[0m | \u001b[0m6.347    \u001b[0m | \u001b[0m0.5      \u001b[0m |\n",
            "| \u001b[0m15       \u001b[0m | \u001b[0m0.9558   \u001b[0m | \u001b[0m0.2      \u001b[0m | \u001b[0m7.028    \u001b[0m | \u001b[0m1.0      \u001b[0m |\n",
            "| \u001b[0m16       \u001b[0m | \u001b[0m0.9556   \u001b[0m | \u001b[0m0.1387   \u001b[0m | \u001b[0m6.835    \u001b[0m | \u001b[0m0.6916   \u001b[0m |\n",
            "| \u001b[0m17       \u001b[0m | \u001b[0m0.9392   \u001b[0m | \u001b[0m0.03674  \u001b[0m | \u001b[0m3.976    \u001b[0m | \u001b[0m0.6584   \u001b[0m |\n",
            "| \u001b[0m18       \u001b[0m | \u001b[0m0.9527   \u001b[0m | \u001b[0m0.06206  \u001b[0m | \u001b[0m8.35     \u001b[0m | \u001b[0m0.5334   \u001b[0m |\n",
            "| \u001b[0m19       \u001b[0m | \u001b[0m0.953    \u001b[0m | \u001b[0m0.1746   \u001b[0m | \u001b[0m4.325    \u001b[0m | \u001b[0m0.5142   \u001b[0m |\n",
            "| \u001b[0m20       \u001b[0m | \u001b[0m0.9542   \u001b[0m | \u001b[0m0.1237   \u001b[0m | \u001b[0m3.789    \u001b[0m | \u001b[0m0.5584   \u001b[0m |\n",
            "| \u001b[0m21       \u001b[0m | \u001b[0m0.9557   \u001b[0m | \u001b[0m0.1266   \u001b[0m | \u001b[0m6.902    \u001b[0m | \u001b[0m0.8268   \u001b[0m |\n",
            "| \u001b[95m22       \u001b[0m | \u001b[95m0.9563   \u001b[0m | \u001b[95m0.1929   \u001b[0m | \u001b[95m7.038    \u001b[0m | \u001b[95m0.9822   \u001b[0m |\n",
            "| \u001b[0m23       \u001b[0m | \u001b[0m0.9547   \u001b[0m | \u001b[0m0.1967   \u001b[0m | \u001b[0m7.225    \u001b[0m | \u001b[0m0.5257   \u001b[0m |\n",
            "| \u001b[0m24       \u001b[0m | \u001b[0m0.9534   \u001b[0m | \u001b[0m0.2      \u001b[0m | \u001b[0m3.385    \u001b[0m | \u001b[0m0.5      \u001b[0m |\n",
            "| \u001b[0m25       \u001b[0m | \u001b[0m0.8578   \u001b[0m | \u001b[0m0.01     \u001b[0m | \u001b[0m7.389    \u001b[0m | \u001b[0m1.0      \u001b[0m |\n",
            "=============================================================\n",
            "{'target': 0.9562673629925929, 'params': {'learning_rate': 0.1928845085538619, 'max_depth': 7.037696371576261, 'subsample': 0.9821649796116663}}\n"
          ]
        }
      ],
      "source": [
        "\n",
        "# define objective function\n",
        "def xgb_objective(learning_rate, max_depth, subsample):\n",
        "    params = {\n",
        "        'learning_rate': learning_rate,\n",
        "        'max_depth': int(max_depth),\n",
        "        'subsample': subsample,\n",
        "        'objective': 'binary:logistic'\n",
        "    }\n",
        "    dtrain = xgb.DMatrix(train_data, label=train_labels)\n",
        "    cv_result = xgb.cv(params, dtrain, num_boost_round=100, nfold=5, metrics='auc')\n",
        "    return cv_result['test-auc-mean'].iloc[-1]\n",
        "\n",
        "# define parameter bounds\n",
        "pbounds = {\n",
        "    'learning_rate': (0.01, 0.2),\n",
        "    'max_depth': (3, 10),\n",
        "    'subsample': (0.5, 1.0)\n",
        "}\n",
        "\n",
        "# create optimizer\n",
        "optimizer = BayesianOptimization(f=xgb_objective, pbounds=pbounds, random_state=1)\n",
        "\n",
        "# optimize\n",
        "optimizer.maximize(init_points=5, n_iter=20)\n",
        "\n",
        "# print results\n",
        "print(optimizer.max)"
      ]
    },
    {
      "cell_type": "code",
      "execution_count": 13,
      "metadata": {
        "colab": {
          "base_uri": "https://localhost:8080/"
        },
        "id": "ib3xzAW0FGE0",
        "outputId": "02b97eaf-fe05-48ff-8759-143ec0b790ac"
      },
      "outputs": [
        {
          "name": "stdout",
          "output_type": "stream",
          "text": [
            "R^2 score: 0.4750\n",
            "MAE: 0.0112\n",
            "MSE: 0.0028\n"
          ]
        }
      ],
      "source": [
        "xgb_model =  xgb.XGBRegressor(learning_rate = 0.1929, max_depth =7, subsample = 0.9822)\n",
        "# Fit the model to the training data\n",
        "xgb_model.fit(train_data, train_labels)\n",
        "\n",
        "# Predict the target variable for the test data\n",
        "predicted_labels = xgb_model.predict(test_data)\n",
        "\n",
        "# Calculate the R^2, MAE, MSE metrics\n",
        "r2 = r2_score(test_labels, predicted_labels)\n",
        "mae = mean_absolute_error(test_labels, predicted_labels)\n",
        "mse = mean_squared_error(test_labels, predicted_labels)\n",
        "\n",
        "\n",
        "# Print the results\n",
        "print(f'R^2 score: {r2:.4f}')\n",
        "print(f'MAE: {mae:.4f}')\n",
        "print(f'MSE: {mse:.4f}')\n"
      ]
    },
    {
      "cell_type": "code",
      "execution_count": 14,
      "metadata": {
        "colab": {
          "base_uri": "https://localhost:8080/",
          "height": 472
        },
        "id": "cw6zQjoWp1UJ",
        "outputId": "b682f82a-c917-43b9-b7a0-6ca45b55e899"
      },
      "outputs": [
        {
          "data": {
            "image/png": "[encoded data removed]",
            "text/plain": [
              "<Figure size 640x480 with 1 Axes>"
            ]
          },
          "metadata": {},
          "output_type": "display_data"
        }
      ],
      "source": [
        "# Compute residuals\n",
        "residuals = test_labels - predicted_labels\n",
        "\n",
        "# Plot residual plot\n",
        "plt.figure()\n",
        "plt.scatter(predicted_labels, residuals)\n",
        "plt.xlabel('Predicted values')\n",
        "plt.ylabel('Residuals')\n",
        "plt.title('Residual plot')\n",
        "plt.show()\n"
      ]
    },
    {
      "cell_type": "code",
      "execution_count": 15,
      "metadata": {
        "colab": {
          "base_uri": "https://localhost:8080/"
        },
        "id": "ll32uMeQo7oU",
        "outputId": "d193d45c-32eb-43b6-ceed-4562a899b86c"
      },
      "outputs": [
        {
          "name": "stdout",
          "output_type": "stream",
          "text": [
            "[0.44527543 0.45104924 0.43956226]\n"
          ]
        }
      ],
      "source": [
        "# The data for the top 3 candidates of the 2023 season in order of 'Jaren Jackson Jr.', 'Brook Lopez' and 'Bam Adebayo'\n",
        "top_3 = [\n",
        "    [ 23, 5, 63, 1787, 18.8, 1.7, 9.6, 3.8, 2, 0.621951, -3.6],\n",
        "    [ 34, 15, 78, 2373, 15.3, 0.7, 6.7, 3.9, 1.3, 0.707317, -2.9],\n",
        "    [ 25, 6, 75, 2598, 23.6, 1.7, 2.4, 3.8, 0.8, 0.536585, -1.5]\n",
        "]\n",
        "columns = ['age', 'experience', 'g', 'mp', 'drb_percent', 'stl_percent', 'blk_percent', 'dws', 'dbpm', 'W/L_percent', 'd_rtg_diff']\n",
        "\n",
        "top_3_contenders = pd.DataFrame(top_3, columns=columns)\n",
        "\n",
        "predictions = xgb_model.predict(top_3_contenders)\n",
        "print(predictions)"
      ]
    }
  ],
  "metadata": {
    "colab": {
      "provenance": []
    },
    "kernelspec": {
      "display_name": "Python 3",
      "name": "python3"
    },
    "language_info": {
      "codemirror_mode": {
        "name": "ipython",
        "version": 3
      },
      "file_extension": ".py",
      "mimetype": "text/x-python",
      "name": "python",
      "nbconvert_exporter": "python",
      "pygments_lexer": "ipython3",
      "version": "3.10.6"
    }
  },
  "nbformat": 4,
  "nbformat_minor": 0
}
